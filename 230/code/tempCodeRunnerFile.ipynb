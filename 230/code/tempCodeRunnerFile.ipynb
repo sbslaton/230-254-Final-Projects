#The following features are highly correlated with the target. We may consider trying models with or without these features
highly_correlated_features = ['adult_mortality', 'infant_mort']